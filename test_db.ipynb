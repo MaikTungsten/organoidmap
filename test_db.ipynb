{
 "cells": [
  {
   "cell_type": "code",
   "execution_count": 24,
   "metadata": {},
   "outputs": [
    {
     "ename": "",
     "evalue": "",
     "output_type": "error",
     "traceback": [
      "\u001b[1;31mDas Ausführen von Zellen mit \"organoidmap (Python 3.11.8)\" erfordert das Paket ipykernel.\n",
      "\u001b[1;31mFühren Sie den folgenden Befehl aus, um „ipykernel“ in der Python-Umgebung zu installieren. \n",
      "\u001b[1;31mBefehl: '/Users/caroline/Documents/Projects/organoidmap/organoidmap/bin/python -m pip install ipykernel -U --force-reinstall'"
     ]
    }
   ],
   "source": [
    "from flask import Flask\n",
    "from flask_sqlalchemy import SQLAlchemy\n",
    "import pandas as pd\n",
    "import pickle\n",
    "import numpy as np"
   ]
  },
  {
   "cell_type": "code",
   "execution_count": 25,
   "metadata": {},
   "outputs": [],
   "source": [
    "app = Flask(__name__)\n",
    "app.config['SQLALCHEMY_DATABASE_URI'] = 'sqlite:///db.sqlite3'\n",
    "app.config['SQLALCHEMY_TRACK_MODIFICATIONS'] = False\n",
    "db = SQLAlchemy(app)\n",
    "\n",
    "# Define the LargeTable (main table) model class\n",
    "\n",
    "class LargeTable(db.Model):\n",
    "    id = db.Column(db.Integer, primary_key=True)\n",
    "    group = db.Column(db.String, nullable=False)\n",
    "    subgroup = db.Column(db.String, nullable=False)\n",
    "    title = db.Column(db.String)\n",
    "    year = db.Column(db.Integer, nullable=False)\n",
    "    doi = db.Column(db.String)\n",
    "    model = db.Column(db.String, nullable=False)\n",
    "    cell_origin = db.Column(db.String, nullable=False)\n",
    "    application = db.Column(db.String)\n",
    "    advantages = db.Column(db.String)\n",
    "    limitations = db.Column(db.String)\n",
    "\n",
    "    def __init__(self, group, subgroup, title, year, doi, model, cell_origin, application, advantages, limitations):\n",
    "        self.group = group\n",
    "        self.subgroup = subgroup\n",
    "        self.title = title\n",
    "        self.year = year\n",
    "        self.doi = doi\n",
    "        self.model = model\n",
    "        self.cell_origin = cell_origin\n",
    "        self.application = application\n",
    "        self.advantages = advantages\n",
    "        self.limitations = limitations\n",
    "\n",
    "    def to_dict(self):\n",
    "\n",
    "        return {\n",
    "            'id': self.id,\n",
    "            'group': self.group,\n",
    "            'subgroup': self.subgroup,\n",
    "            'title': self.title,\n",
    "            'year': self.year,\n",
    "            'doi': self.doi,\n",
    "            'model': self.model,\n",
    "            'cell_origin': self.cell_origin,\n",
    "            'application': self.application,\n",
    "            'advantages': self.advantages,\n",
    "            'limitations': self.limitations\n",
    "        }\n",
    "\n",
    "# Define the Abbreviations model\n",
    "class Abbreviations(db.Model):\n",
    "    id = db.Column(db.Integer, primary_key=True)\n",
    "    abbreviation = db.Column(db.String, nullable=False)\n",
    "    description = db.Column(db.String, nullable=False)\n",
    "\n",
    "    def __init__(self, abbreviation, description):\n",
    "\n",
    "        self.abbreviation = abbreviation\n",
    "        self.description = description\n",
    "\n",
    "    def to_dict(self):\n",
    "\n",
    "        return {\n",
    "            'id': self.id,\n",
    "            'abbreviation': self.abbreviation,\n",
    "            'description': self.description\n",
    "        }\n",
    "\n",
    "        \n",
    "\n",
    "# Create the database\n",
    "with app.app_context():\n",
    "    db.create_all()"
   ]
  },
  {
   "cell_type": "code",
   "execution_count": 26,
   "metadata": {},
   "outputs": [],
   "source": [
    "excel_path = \"/Users/maikwolfram-schauerte/Documents/Collaborations/Anna_Wolfram/Organoidmap/OrganoidMap_Training_Tabel.xlsx\""
   ]
  },
  {
   "cell_type": "code",
   "execution_count": 27,
   "metadata": {},
   "outputs": [],
   "source": [
    "def addLargeTable(excel_path):\n",
    "\n",
    "    df = pd.read_excel(excel_path, sheet_name=\"OrganoidMap\")\n",
    "\n",
    "    for _, row in df.iterrows():\n",
    "        \n",
    "        entry = LargeTable(group=row['Group'], subgroup=row['Subgroup'], title=row['Title'],\n",
    "                           year=row['Year'], cell_origin=row['Cell origin'], doi=row['DOI'],\n",
    "                           model=row['Model'], application=row['Application'], advantages=row['Advantages'],\n",
    "                           limitations=row['Limitations'])\n",
    "        db.session.add(entry)\n",
    "\n",
    "    db.session.commit()\n",
    "\n",
    "def addAbbreviations(excel_path):\n",
    "\n",
    "    df = pd.read_excel(excel_path, sheet_name=\"Abbreviations\")\n",
    "\n",
    "    for _, row in df.iterrows():\n",
    "        \n",
    "        entry = Abbreviations(abbreviation=row['Abbreviation'], description=row['Description'])\n",
    "        db.session.add(entry)\n",
    "\n",
    "    db.session.commit()"
   ]
  },
  {
   "cell_type": "code",
   "execution_count": 28,
   "metadata": {},
   "outputs": [],
   "source": [
    "with app.app_context():\n",
    "    addLargeTable(excel_path=excel_path)\n",
    "    addAbbreviations(excel_path=excel_path)"
   ]
  }
 ],
 "metadata": {
  "kernelspec": {
   "display_name": "organoidmap",
   "language": "python",
   "name": "python3"
  },
  "language_info": {
   "codemirror_mode": {
    "name": "ipython",
    "version": 3
   },
   "file_extension": ".py",
   "mimetype": "text/x-python",
   "name": "python",
   "nbconvert_exporter": "python",
   "pygments_lexer": "ipython3",
   "version": "3.11.8"
  }
 },
 "nbformat": 4,
 "nbformat_minor": 2
}
